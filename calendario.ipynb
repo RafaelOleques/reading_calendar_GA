{
 "cells": [
  {
   "cell_type": "code",
   "execution_count": 41,
   "id": "4856122d",
   "metadata": {},
   "outputs": [],
   "source": [
    "from bestDays import *\n",
    "from planner import geraDocx"
   ]
  },
  {
   "cell_type": "markdown",
   "id": "6b6bf0a3",
   "metadata": {},
   "source": [
    "## 1. Visualização dos capítulos e números de páginas"
   ]
  },
  {
   "cell_type": "code",
   "execution_count": 42,
   "id": "beae2a4e",
   "metadata": {},
   "outputs": [],
   "source": [
    "pages, titles = chaptersWithPages(\"cap.txt\")\n",
    "\n",
    "caps = [i for i in range(0,len(titles))]\n",
    "\n",
    "zipped = zip(caps, pages)"
   ]
  },
  {
   "cell_type": "code",
   "execution_count": 43,
   "id": "cfde0684",
   "metadata": {},
   "outputs": [
    {
     "data": {
      "text/plain": [
       "([4, 6, 11, 6, 7, 12, 5, 6, 7, 24, 7, 19, 11, 14, 4],\n",
       " ['Prefácio',\n",
       "  'Um',\n",
       "  'Dois',\n",
       "  'Três',\n",
       "  'Quatro',\n",
       "  'Cinco',\n",
       "  'Seis',\n",
       "  'Sete',\n",
       "  'Oito',\n",
       "  'Nove',\n",
       "  'Dez',\n",
       "  'Onze',\n",
       "  'Doze',\n",
       "  'Treze',\n",
       "  'Quatorze'])"
      ]
     },
     "execution_count": 43,
     "metadata": {},
     "output_type": "execute_result"
    }
   ],
   "source": [
    "pages, titles"
   ]
  },
  {
   "cell_type": "code",
   "execution_count": 44,
   "id": "544c55c6",
   "metadata": {},
   "outputs": [],
   "source": [
    "number_of_days = 15"
   ]
  },
  {
   "cell_type": "markdown",
   "id": "2c6c0a9a",
   "metadata": {},
   "source": [
    "## 2.1. Solução com escolha dinâmica dos parâmetros"
   ]
  },
  {
   "cell_type": "code",
   "execution_count": 19,
   "id": "b25e7ce2",
   "metadata": {
    "scrolled": true
   },
   "outputs": [
    {
     "name": "stdout",
     "output_type": "stream",
     "text": [
      "Encontrei: 1 [79, 79, 2, 0.9212128650296278, True] 23.410000000000004\n"
     ]
    },
    {
     "ename": "KeyboardInterrupt",
     "evalue": "",
     "output_type": "error",
     "traceback": [
      "\u001b[1;31m---------------------------------------------------------------------------\u001b[0m",
      "\u001b[1;31mKeyboardInterrupt\u001b[0m                         Traceback (most recent call last)",
      "\u001b[1;32m~\\AppData\\Local\\Temp/ipykernel_12908/1174295892.py\u001b[0m in \u001b[0;36m<module>\u001b[1;34m\u001b[0m\n\u001b[0;32m      1\u001b[0m \u001b[0mnumber_of_cycles\u001b[0m \u001b[1;33m=\u001b[0m \u001b[1;36m15\u001b[0m\u001b[1;33m\u001b[0m\u001b[1;33m\u001b[0m\u001b[0m\n\u001b[1;32m----> 2\u001b[1;33m \u001b[0mparametros\u001b[0m\u001b[1;33m,\u001b[0m \u001b[0mbest_fit\u001b[0m\u001b[1;33m,\u001b[0m \u001b[0mindividuals\u001b[0m\u001b[1;33m,\u001b[0m \u001b[0minf_graph\u001b[0m \u001b[1;33m=\u001b[0m \u001b[0mthe_best\u001b[0m\u001b[1;33m(\u001b[0m\u001b[0mnumber_of_days\u001b[0m\u001b[1;33m,\u001b[0m \u001b[0mnumber_of_cycles\u001b[0m\u001b[1;33m)\u001b[0m\u001b[1;33m\u001b[0m\u001b[1;33m\u001b[0m\u001b[0m\n\u001b[0m\u001b[0;32m      3\u001b[0m \u001b[1;33m\u001b[0m\u001b[0m\n\u001b[0;32m      4\u001b[0m \u001b[0mg\u001b[0m\u001b[1;33m,\u001b[0m \u001b[0mn\u001b[0m\u001b[1;33m,\u001b[0m \u001b[0mk\u001b[0m\u001b[1;33m,\u001b[0m \u001b[0mm\u001b[0m\u001b[1;33m,\u001b[0m \u001b[0me\u001b[0m \u001b[1;33m=\u001b[0m \u001b[0mparametros\u001b[0m\u001b[1;33m\u001b[0m\u001b[1;33m\u001b[0m\u001b[0m\n\u001b[0;32m      5\u001b[0m \u001b[1;33m\u001b[0m\u001b[0m\n",
      "\u001b[1;32m~\\Documents\\Projetos\\GitHub\\reading_calendar_GA\\bestDays.py\u001b[0m in \u001b[0;36mthe_best\u001b[1;34m(number_of_days, number_of_cycles)\u001b[0m\n\u001b[0;32m    390\u001b[0m         \u001b[0mm\u001b[0m\u001b[1;33m,\u001b[0m \u001b[0me\u001b[0m \u001b[1;33m=\u001b[0m \u001b[0mrandom\u001b[0m\u001b[1;33m.\u001b[0m\u001b[0muniform\u001b[0m\u001b[1;33m(\u001b[0m\u001b[1;36m0.87\u001b[0m\u001b[1;33m,\u001b[0m \u001b[1;36m1\u001b[0m\u001b[1;33m)\u001b[0m\u001b[1;33m,\u001b[0m \u001b[1;32mTrue\u001b[0m\u001b[1;33m\u001b[0m\u001b[1;33m\u001b[0m\u001b[0m\n\u001b[0;32m    391\u001b[0m \u001b[1;33m\u001b[0m\u001b[0m\n\u001b[1;32m--> 392\u001b[1;33m         \u001b[0mindividuals\u001b[0m\u001b[1;33m,\u001b[0m \u001b[0minf_graph\u001b[0m \u001b[1;33m=\u001b[0m \u001b[0mrun_ga\u001b[0m\u001b[1;33m(\u001b[0m\u001b[0mg\u001b[0m\u001b[1;33m,\u001b[0m \u001b[0mn\u001b[0m\u001b[1;33m,\u001b[0m \u001b[0mk\u001b[0m\u001b[1;33m,\u001b[0m \u001b[0mm\u001b[0m\u001b[1;33m,\u001b[0m \u001b[0me\u001b[0m\u001b[1;33m,\u001b[0m \u001b[0mnumber_of_days\u001b[0m\u001b[1;33m,\u001b[0m \u001b[1;32mTrue\u001b[0m\u001b[1;33m)\u001b[0m\u001b[1;33m\u001b[0m\u001b[1;33m\u001b[0m\u001b[0m\n\u001b[0m\u001b[0;32m    393\u001b[0m         \u001b[0mactual\u001b[0m \u001b[1;33m=\u001b[0m \u001b[0mevaluate\u001b[0m\u001b[1;33m(\u001b[0m\u001b[0mindividuals\u001b[0m\u001b[1;33m)\u001b[0m\u001b[1;33m\u001b[0m\u001b[1;33m\u001b[0m\u001b[0m\n\u001b[0;32m    394\u001b[0m \u001b[1;33m\u001b[0m\u001b[0m\n",
      "\u001b[1;32m~\\Documents\\Projetos\\GitHub\\reading_calendar_GA\\bestDays.py\u001b[0m in \u001b[0;36mrun_ga\u001b[1;34m(g, n, k, m, e, number_of_days, graph)\u001b[0m\n\u001b[0;32m    328\u001b[0m \u001b[1;33m\u001b[0m\u001b[0m\n\u001b[0;32m    329\u001b[0m         \u001b[1;32mwhile\u001b[0m\u001b[1;33m(\u001b[0m\u001b[0mlen\u001b[0m\u001b[1;33m(\u001b[0m\u001b[0mnew_individuals\u001b[0m\u001b[1;33m)\u001b[0m \u001b[1;33m<\u001b[0m \u001b[0mn\u001b[0m\u001b[1;33m)\u001b[0m\u001b[1;33m:\u001b[0m\u001b[1;33m\u001b[0m\u001b[1;33m\u001b[0m\u001b[0m\n\u001b[1;32m--> 330\u001b[1;33m             \u001b[0mp1\u001b[0m\u001b[1;33m,\u001b[0m \u001b[0mp2\u001b[0m \u001b[1;33m=\u001b[0m \u001b[0mselecao\u001b[0m\u001b[1;33m(\u001b[0m\u001b[0mindividuals\u001b[0m\u001b[1;33m,\u001b[0m \u001b[0mk\u001b[0m\u001b[1;33m)\u001b[0m\u001b[1;33m\u001b[0m\u001b[1;33m\u001b[0m\u001b[0m\n\u001b[0m\u001b[0;32m    331\u001b[0m \u001b[1;33m\u001b[0m\u001b[0m\n\u001b[0;32m    332\u001b[0m             '''o1, o2 = crossover(p1, p2, random.randint(0, 7))\n",
      "\u001b[1;32m~\\Documents\\Projetos\\GitHub\\reading_calendar_GA\\bestDays.py\u001b[0m in \u001b[0;36mselecao\u001b[1;34m(individuals, k)\u001b[0m\n\u001b[0;32m    291\u001b[0m \u001b[1;31m#Ok\u001b[0m\u001b[1;33m\u001b[0m\u001b[1;33m\u001b[0m\u001b[1;33m\u001b[0m\u001b[0m\n\u001b[0;32m    292\u001b[0m \u001b[1;32mdef\u001b[0m \u001b[0mselecao\u001b[0m\u001b[1;33m(\u001b[0m\u001b[0mindividuals\u001b[0m\u001b[1;33m,\u001b[0m \u001b[0mk\u001b[0m\u001b[1;33m)\u001b[0m\u001b[1;33m:\u001b[0m\u001b[1;33m\u001b[0m\u001b[1;33m\u001b[0m\u001b[0m\n\u001b[1;32m--> 293\u001b[1;33m     \u001b[0mpart\u001b[0m \u001b[1;33m=\u001b[0m \u001b[0mcopy\u001b[0m\u001b[1;33m.\u001b[0m\u001b[0mdeepcopy\u001b[0m\u001b[1;33m(\u001b[0m\u001b[0mindividuals\u001b[0m\u001b[1;33m)\u001b[0m\u001b[1;33m\u001b[0m\u001b[1;33m\u001b[0m\u001b[0m\n\u001b[0m\u001b[0;32m    294\u001b[0m \u001b[1;33m\u001b[0m\u001b[0m\n\u001b[0;32m    295\u001b[0m     \u001b[1;32mwhile\u001b[0m\u001b[1;33m(\u001b[0m\u001b[0mlen\u001b[0m\u001b[1;33m(\u001b[0m\u001b[0mpart\u001b[0m\u001b[1;33m)\u001b[0m \u001b[1;33m!=\u001b[0m \u001b[0mk\u001b[0m\u001b[1;33m)\u001b[0m\u001b[1;33m:\u001b[0m\u001b[1;33m\u001b[0m\u001b[1;33m\u001b[0m\u001b[0m\n",
      "\u001b[1;32m~\\anaconda3\\envs\\pessoais\\lib\\copy.py\u001b[0m in \u001b[0;36mdeepcopy\u001b[1;34m(x, memo, _nil)\u001b[0m\n\u001b[0;32m    144\u001b[0m     \u001b[0mcopier\u001b[0m \u001b[1;33m=\u001b[0m \u001b[0m_deepcopy_dispatch\u001b[0m\u001b[1;33m.\u001b[0m\u001b[0mget\u001b[0m\u001b[1;33m(\u001b[0m\u001b[0mcls\u001b[0m\u001b[1;33m)\u001b[0m\u001b[1;33m\u001b[0m\u001b[1;33m\u001b[0m\u001b[0m\n\u001b[0;32m    145\u001b[0m     \u001b[1;32mif\u001b[0m \u001b[0mcopier\u001b[0m \u001b[1;32mis\u001b[0m \u001b[1;32mnot\u001b[0m \u001b[1;32mNone\u001b[0m\u001b[1;33m:\u001b[0m\u001b[1;33m\u001b[0m\u001b[1;33m\u001b[0m\u001b[0m\n\u001b[1;32m--> 146\u001b[1;33m         \u001b[0my\u001b[0m \u001b[1;33m=\u001b[0m \u001b[0mcopier\u001b[0m\u001b[1;33m(\u001b[0m\u001b[0mx\u001b[0m\u001b[1;33m,\u001b[0m \u001b[0mmemo\u001b[0m\u001b[1;33m)\u001b[0m\u001b[1;33m\u001b[0m\u001b[1;33m\u001b[0m\u001b[0m\n\u001b[0m\u001b[0;32m    147\u001b[0m     \u001b[1;32melse\u001b[0m\u001b[1;33m:\u001b[0m\u001b[1;33m\u001b[0m\u001b[1;33m\u001b[0m\u001b[0m\n\u001b[0;32m    148\u001b[0m         \u001b[1;32mif\u001b[0m \u001b[0missubclass\u001b[0m\u001b[1;33m(\u001b[0m\u001b[0mcls\u001b[0m\u001b[1;33m,\u001b[0m \u001b[0mtype\u001b[0m\u001b[1;33m)\u001b[0m\u001b[1;33m:\u001b[0m\u001b[1;33m\u001b[0m\u001b[1;33m\u001b[0m\u001b[0m\n",
      "\u001b[1;32m~\\anaconda3\\envs\\pessoais\\lib\\copy.py\u001b[0m in \u001b[0;36m_deepcopy_list\u001b[1;34m(x, memo, deepcopy)\u001b[0m\n\u001b[0;32m    203\u001b[0m     \u001b[0mappend\u001b[0m \u001b[1;33m=\u001b[0m \u001b[0my\u001b[0m\u001b[1;33m.\u001b[0m\u001b[0mappend\u001b[0m\u001b[1;33m\u001b[0m\u001b[1;33m\u001b[0m\u001b[0m\n\u001b[0;32m    204\u001b[0m     \u001b[1;32mfor\u001b[0m \u001b[0ma\u001b[0m \u001b[1;32min\u001b[0m \u001b[0mx\u001b[0m\u001b[1;33m:\u001b[0m\u001b[1;33m\u001b[0m\u001b[1;33m\u001b[0m\u001b[0m\n\u001b[1;32m--> 205\u001b[1;33m         \u001b[0mappend\u001b[0m\u001b[1;33m(\u001b[0m\u001b[0mdeepcopy\u001b[0m\u001b[1;33m(\u001b[0m\u001b[0ma\u001b[0m\u001b[1;33m,\u001b[0m \u001b[0mmemo\u001b[0m\u001b[1;33m)\u001b[0m\u001b[1;33m)\u001b[0m\u001b[1;33m\u001b[0m\u001b[1;33m\u001b[0m\u001b[0m\n\u001b[0m\u001b[0;32m    206\u001b[0m     \u001b[1;32mreturn\u001b[0m \u001b[0my\u001b[0m\u001b[1;33m\u001b[0m\u001b[1;33m\u001b[0m\u001b[0m\n\u001b[0;32m    207\u001b[0m \u001b[0md\u001b[0m\u001b[1;33m[\u001b[0m\u001b[0mlist\u001b[0m\u001b[1;33m]\u001b[0m \u001b[1;33m=\u001b[0m \u001b[0m_deepcopy_list\u001b[0m\u001b[1;33m\u001b[0m\u001b[1;33m\u001b[0m\u001b[0m\n",
      "\u001b[1;32m~\\anaconda3\\envs\\pessoais\\lib\\copy.py\u001b[0m in \u001b[0;36mdeepcopy\u001b[1;34m(x, memo, _nil)\u001b[0m\n\u001b[0;32m    144\u001b[0m     \u001b[0mcopier\u001b[0m \u001b[1;33m=\u001b[0m \u001b[0m_deepcopy_dispatch\u001b[0m\u001b[1;33m.\u001b[0m\u001b[0mget\u001b[0m\u001b[1;33m(\u001b[0m\u001b[0mcls\u001b[0m\u001b[1;33m)\u001b[0m\u001b[1;33m\u001b[0m\u001b[1;33m\u001b[0m\u001b[0m\n\u001b[0;32m    145\u001b[0m     \u001b[1;32mif\u001b[0m \u001b[0mcopier\u001b[0m \u001b[1;32mis\u001b[0m \u001b[1;32mnot\u001b[0m \u001b[1;32mNone\u001b[0m\u001b[1;33m:\u001b[0m\u001b[1;33m\u001b[0m\u001b[1;33m\u001b[0m\u001b[0m\n\u001b[1;32m--> 146\u001b[1;33m         \u001b[0my\u001b[0m \u001b[1;33m=\u001b[0m \u001b[0mcopier\u001b[0m\u001b[1;33m(\u001b[0m\u001b[0mx\u001b[0m\u001b[1;33m,\u001b[0m \u001b[0mmemo\u001b[0m\u001b[1;33m)\u001b[0m\u001b[1;33m\u001b[0m\u001b[1;33m\u001b[0m\u001b[0m\n\u001b[0m\u001b[0;32m    147\u001b[0m     \u001b[1;32melse\u001b[0m\u001b[1;33m:\u001b[0m\u001b[1;33m\u001b[0m\u001b[1;33m\u001b[0m\u001b[0m\n\u001b[0;32m    148\u001b[0m         \u001b[1;32mif\u001b[0m \u001b[0missubclass\u001b[0m\u001b[1;33m(\u001b[0m\u001b[0mcls\u001b[0m\u001b[1;33m,\u001b[0m \u001b[0mtype\u001b[0m\u001b[1;33m)\u001b[0m\u001b[1;33m:\u001b[0m\u001b[1;33m\u001b[0m\u001b[1;33m\u001b[0m\u001b[0m\n",
      "\u001b[1;32m~\\anaconda3\\envs\\pessoais\\lib\\copy.py\u001b[0m in \u001b[0;36m_deepcopy_list\u001b[1;34m(x, memo, deepcopy)\u001b[0m\n\u001b[0;32m    203\u001b[0m     \u001b[0mappend\u001b[0m \u001b[1;33m=\u001b[0m \u001b[0my\u001b[0m\u001b[1;33m.\u001b[0m\u001b[0mappend\u001b[0m\u001b[1;33m\u001b[0m\u001b[1;33m\u001b[0m\u001b[0m\n\u001b[0;32m    204\u001b[0m     \u001b[1;32mfor\u001b[0m \u001b[0ma\u001b[0m \u001b[1;32min\u001b[0m \u001b[0mx\u001b[0m\u001b[1;33m:\u001b[0m\u001b[1;33m\u001b[0m\u001b[1;33m\u001b[0m\u001b[0m\n\u001b[1;32m--> 205\u001b[1;33m         \u001b[0mappend\u001b[0m\u001b[1;33m(\u001b[0m\u001b[0mdeepcopy\u001b[0m\u001b[1;33m(\u001b[0m\u001b[0ma\u001b[0m\u001b[1;33m,\u001b[0m \u001b[0mmemo\u001b[0m\u001b[1;33m)\u001b[0m\u001b[1;33m)\u001b[0m\u001b[1;33m\u001b[0m\u001b[1;33m\u001b[0m\u001b[0m\n\u001b[0m\u001b[0;32m    206\u001b[0m     \u001b[1;32mreturn\u001b[0m \u001b[0my\u001b[0m\u001b[1;33m\u001b[0m\u001b[1;33m\u001b[0m\u001b[0m\n\u001b[0;32m    207\u001b[0m \u001b[0md\u001b[0m\u001b[1;33m[\u001b[0m\u001b[0mlist\u001b[0m\u001b[1;33m]\u001b[0m \u001b[1;33m=\u001b[0m \u001b[0m_deepcopy_list\u001b[0m\u001b[1;33m\u001b[0m\u001b[1;33m\u001b[0m\u001b[0m\n",
      "\u001b[1;32m~\\anaconda3\\envs\\pessoais\\lib\\copy.py\u001b[0m in \u001b[0;36mdeepcopy\u001b[1;34m(x, memo, _nil)\u001b[0m\n\u001b[0;32m    144\u001b[0m     \u001b[0mcopier\u001b[0m \u001b[1;33m=\u001b[0m \u001b[0m_deepcopy_dispatch\u001b[0m\u001b[1;33m.\u001b[0m\u001b[0mget\u001b[0m\u001b[1;33m(\u001b[0m\u001b[0mcls\u001b[0m\u001b[1;33m)\u001b[0m\u001b[1;33m\u001b[0m\u001b[1;33m\u001b[0m\u001b[0m\n\u001b[0;32m    145\u001b[0m     \u001b[1;32mif\u001b[0m \u001b[0mcopier\u001b[0m \u001b[1;32mis\u001b[0m \u001b[1;32mnot\u001b[0m \u001b[1;32mNone\u001b[0m\u001b[1;33m:\u001b[0m\u001b[1;33m\u001b[0m\u001b[1;33m\u001b[0m\u001b[0m\n\u001b[1;32m--> 146\u001b[1;33m         \u001b[0my\u001b[0m \u001b[1;33m=\u001b[0m \u001b[0mcopier\u001b[0m\u001b[1;33m(\u001b[0m\u001b[0mx\u001b[0m\u001b[1;33m,\u001b[0m \u001b[0mmemo\u001b[0m\u001b[1;33m)\u001b[0m\u001b[1;33m\u001b[0m\u001b[1;33m\u001b[0m\u001b[0m\n\u001b[0m\u001b[0;32m    147\u001b[0m     \u001b[1;32melse\u001b[0m\u001b[1;33m:\u001b[0m\u001b[1;33m\u001b[0m\u001b[1;33m\u001b[0m\u001b[0m\n\u001b[0;32m    148\u001b[0m         \u001b[1;32mif\u001b[0m \u001b[0missubclass\u001b[0m\u001b[1;33m(\u001b[0m\u001b[0mcls\u001b[0m\u001b[1;33m,\u001b[0m \u001b[0mtype\u001b[0m\u001b[1;33m)\u001b[0m\u001b[1;33m:\u001b[0m\u001b[1;33m\u001b[0m\u001b[1;33m\u001b[0m\u001b[0m\n",
      "\u001b[1;32m~\\anaconda3\\envs\\pessoais\\lib\\copy.py\u001b[0m in \u001b[0;36m_deepcopy_list\u001b[1;34m(x, memo, deepcopy)\u001b[0m\n\u001b[0;32m    203\u001b[0m     \u001b[0mappend\u001b[0m \u001b[1;33m=\u001b[0m \u001b[0my\u001b[0m\u001b[1;33m.\u001b[0m\u001b[0mappend\u001b[0m\u001b[1;33m\u001b[0m\u001b[1;33m\u001b[0m\u001b[0m\n\u001b[0;32m    204\u001b[0m     \u001b[1;32mfor\u001b[0m \u001b[0ma\u001b[0m \u001b[1;32min\u001b[0m \u001b[0mx\u001b[0m\u001b[1;33m:\u001b[0m\u001b[1;33m\u001b[0m\u001b[1;33m\u001b[0m\u001b[0m\n\u001b[1;32m--> 205\u001b[1;33m         \u001b[0mappend\u001b[0m\u001b[1;33m(\u001b[0m\u001b[0mdeepcopy\u001b[0m\u001b[1;33m(\u001b[0m\u001b[0ma\u001b[0m\u001b[1;33m,\u001b[0m \u001b[0mmemo\u001b[0m\u001b[1;33m)\u001b[0m\u001b[1;33m)\u001b[0m\u001b[1;33m\u001b[0m\u001b[1;33m\u001b[0m\u001b[0m\n\u001b[0m\u001b[0;32m    206\u001b[0m     \u001b[1;32mreturn\u001b[0m \u001b[0my\u001b[0m\u001b[1;33m\u001b[0m\u001b[1;33m\u001b[0m\u001b[0m\n\u001b[0;32m    207\u001b[0m \u001b[0md\u001b[0m\u001b[1;33m[\u001b[0m\u001b[0mlist\u001b[0m\u001b[1;33m]\u001b[0m \u001b[1;33m=\u001b[0m \u001b[0m_deepcopy_list\u001b[0m\u001b[1;33m\u001b[0m\u001b[1;33m\u001b[0m\u001b[0m\n",
      "\u001b[1;32m~\\anaconda3\\envs\\pessoais\\lib\\copy.py\u001b[0m in \u001b[0;36mdeepcopy\u001b[1;34m(x, memo, _nil)\u001b[0m\n\u001b[0;32m    144\u001b[0m     \u001b[0mcopier\u001b[0m \u001b[1;33m=\u001b[0m \u001b[0m_deepcopy_dispatch\u001b[0m\u001b[1;33m.\u001b[0m\u001b[0mget\u001b[0m\u001b[1;33m(\u001b[0m\u001b[0mcls\u001b[0m\u001b[1;33m)\u001b[0m\u001b[1;33m\u001b[0m\u001b[1;33m\u001b[0m\u001b[0m\n\u001b[0;32m    145\u001b[0m     \u001b[1;32mif\u001b[0m \u001b[0mcopier\u001b[0m \u001b[1;32mis\u001b[0m \u001b[1;32mnot\u001b[0m \u001b[1;32mNone\u001b[0m\u001b[1;33m:\u001b[0m\u001b[1;33m\u001b[0m\u001b[1;33m\u001b[0m\u001b[0m\n\u001b[1;32m--> 146\u001b[1;33m         \u001b[0my\u001b[0m \u001b[1;33m=\u001b[0m \u001b[0mcopier\u001b[0m\u001b[1;33m(\u001b[0m\u001b[0mx\u001b[0m\u001b[1;33m,\u001b[0m \u001b[0mmemo\u001b[0m\u001b[1;33m)\u001b[0m\u001b[1;33m\u001b[0m\u001b[1;33m\u001b[0m\u001b[0m\n\u001b[0m\u001b[0;32m    147\u001b[0m     \u001b[1;32melse\u001b[0m\u001b[1;33m:\u001b[0m\u001b[1;33m\u001b[0m\u001b[1;33m\u001b[0m\u001b[0m\n\u001b[0;32m    148\u001b[0m         \u001b[1;32mif\u001b[0m \u001b[0missubclass\u001b[0m\u001b[1;33m(\u001b[0m\u001b[0mcls\u001b[0m\u001b[1;33m,\u001b[0m \u001b[0mtype\u001b[0m\u001b[1;33m)\u001b[0m\u001b[1;33m:\u001b[0m\u001b[1;33m\u001b[0m\u001b[1;33m\u001b[0m\u001b[0m\n",
      "\u001b[1;32m~\\anaconda3\\envs\\pessoais\\lib\\copy.py\u001b[0m in \u001b[0;36m_deepcopy_list\u001b[1;34m(x, memo, deepcopy)\u001b[0m\n\u001b[0;32m    203\u001b[0m     \u001b[0mappend\u001b[0m \u001b[1;33m=\u001b[0m \u001b[0my\u001b[0m\u001b[1;33m.\u001b[0m\u001b[0mappend\u001b[0m\u001b[1;33m\u001b[0m\u001b[1;33m\u001b[0m\u001b[0m\n\u001b[0;32m    204\u001b[0m     \u001b[1;32mfor\u001b[0m \u001b[0ma\u001b[0m \u001b[1;32min\u001b[0m \u001b[0mx\u001b[0m\u001b[1;33m:\u001b[0m\u001b[1;33m\u001b[0m\u001b[1;33m\u001b[0m\u001b[0m\n\u001b[1;32m--> 205\u001b[1;33m         \u001b[0mappend\u001b[0m\u001b[1;33m(\u001b[0m\u001b[0mdeepcopy\u001b[0m\u001b[1;33m(\u001b[0m\u001b[0ma\u001b[0m\u001b[1;33m,\u001b[0m \u001b[0mmemo\u001b[0m\u001b[1;33m)\u001b[0m\u001b[1;33m)\u001b[0m\u001b[1;33m\u001b[0m\u001b[1;33m\u001b[0m\u001b[0m\n\u001b[0m\u001b[0;32m    206\u001b[0m     \u001b[1;32mreturn\u001b[0m \u001b[0my\u001b[0m\u001b[1;33m\u001b[0m\u001b[1;33m\u001b[0m\u001b[0m\n\u001b[0;32m    207\u001b[0m \u001b[0md\u001b[0m\u001b[1;33m[\u001b[0m\u001b[0mlist\u001b[0m\u001b[1;33m]\u001b[0m \u001b[1;33m=\u001b[0m \u001b[0m_deepcopy_list\u001b[0m\u001b[1;33m\u001b[0m\u001b[1;33m\u001b[0m\u001b[0m\n",
      "\u001b[1;32m~\\anaconda3\\envs\\pessoais\\lib\\copy.py\u001b[0m in \u001b[0;36mdeepcopy\u001b[1;34m(x, memo, _nil)\u001b[0m\n\u001b[0;32m    140\u001b[0m         \u001b[1;32mreturn\u001b[0m \u001b[0my\u001b[0m\u001b[1;33m\u001b[0m\u001b[1;33m\u001b[0m\u001b[0m\n\u001b[0;32m    141\u001b[0m \u001b[1;33m\u001b[0m\u001b[0m\n\u001b[1;32m--> 142\u001b[1;33m     \u001b[0mcls\u001b[0m \u001b[1;33m=\u001b[0m \u001b[0mtype\u001b[0m\u001b[1;33m(\u001b[0m\u001b[0mx\u001b[0m\u001b[1;33m)\u001b[0m\u001b[1;33m\u001b[0m\u001b[1;33m\u001b[0m\u001b[0m\n\u001b[0m\u001b[0;32m    143\u001b[0m \u001b[1;33m\u001b[0m\u001b[0m\n\u001b[0;32m    144\u001b[0m     \u001b[0mcopier\u001b[0m \u001b[1;33m=\u001b[0m \u001b[0m_deepcopy_dispatch\u001b[0m\u001b[1;33m.\u001b[0m\u001b[0mget\u001b[0m\u001b[1;33m(\u001b[0m\u001b[0mcls\u001b[0m\u001b[1;33m)\u001b[0m\u001b[1;33m\u001b[0m\u001b[1;33m\u001b[0m\u001b[0m\n",
      "\u001b[1;31mKeyboardInterrupt\u001b[0m: "
     ]
    }
   ],
   "source": [
    "number_of_cycles = 15\n",
    "parametros, best_fit, individuals, inf_graph = the_best(number_of_days, number_of_cycles)\n",
    "\n",
    "g, n, k, m, e = parametros\n",
    "\n",
    "print(\"Fui escolhido com \", str(best_fit)+\" de fitness\")\n",
    "print(parametros)"
   ]
  },
  {
   "cell_type": "markdown",
   "id": "1a74c879",
   "metadata": {},
   "source": [
    "## 2.2. Solução com os parêmetros definidos pelo usuário"
   ]
  },
  {
   "cell_type": "code",
   "execution_count": 45,
   "id": "e21b222a",
   "metadata": {},
   "outputs": [
    {
     "name": "stdout",
     "output_type": "stream",
     "text": [
      "Fitness 31.182222222222222\n"
     ]
    }
   ],
   "source": [
    "#Maiores\n",
    "#individuals, inf_graph = run_ga(70, 92, 5, 0.8691350183172188, True, number_of_days, True)\n",
    "\n",
    "#Menores\n",
    "individuals, inf_graph = run_ga(112, 76, 4, 0.9204600515954271, True, number_of_days, True)\n",
    "\n",
    "#Bíblia\n",
    "#individuals, inf_graph = run_ga(94, 85, 3, 0.9758877342608199, True, number_of_days, True)\n",
    "\n",
    "best_fit = evaluate(individuals)\n",
    "print(\"Fitness\", best_fit)"
   ]
  },
  {
   "cell_type": "markdown",
   "id": "6b1d0e35",
   "metadata": {},
   "source": [
    "## 2.3. Visualização da solução utilizada"
   ]
  },
  {
   "cell_type": "markdown",
   "id": "54ff521d",
   "metadata": {},
   "source": [
    "### Gráfico do algoritmo genético"
   ]
  },
  {
   "cell_type": "code",
   "execution_count": 46,
   "id": "3aa71a91",
   "metadata": {},
   "outputs": [
    {
     "data": {
      "image/png": "[encoded data removed]",
      "text/plain": [
       "<Figure size 432x288 with 1 Axes>"
      ]
     },
     "metadata": {
      "needs_background": "light"
     },
     "output_type": "display_data"
    }
   ],
   "source": [
    "import numpy as np\n",
    "import matplotlib.pyplot as plt\n",
    "\n",
    "max_fit = inf_graph[0]\n",
    "min_fit = inf_graph[1]\n",
    "avarage_fit = inf_graph[2]\n",
    "n_range = inf_graph[3]\n",
    "x = np.arange(0, n_range)\n",
    "\n",
    "plt.figure(figsize=(6, 4))\n",
    "plt.plot(x, min_fit, color='green', label='Menor') \n",
    "plt.plot(x, max_fit, color='red', label='Maior')\n",
    "plt.plot(x, avarage_fit, color='blue', label='Media')\n",
    "\n",
    "plt.xlabel(\"Gerações\",fontsize=13)\n",
    "plt.ylabel(\"Fitness\",fontsize=13)\n",
    "\n",
    "plt.legend()\n",
    "plt.show()\n",
    "plt.close()"
   ]
  },
  {
   "cell_type": "markdown",
   "id": "825e9737",
   "metadata": {},
   "source": [
    "### Visualização do resultado com o número do capítulo por dia + número de páginas por dia"
   ]
  },
  {
   "cell_type": "code",
   "execution_count": 47,
   "id": "b1e97271",
   "metadata": {
    "scrolled": true
   },
   "outputs": [
    {
     "name": "stdout",
     "output_type": "stream",
     "text": [
      "Fitness 31.182222222222222\n",
      "(0, 4)\n",
      "(1, 6)\n",
      "(2, 11)\n",
      "(3, 6)\n",
      "(4, 7)\n",
      "(5, 12)\n",
      "(6, 5)\n",
      "(7, 6)\n",
      "(8, 7)\n",
      "(9, 24)\n",
      "(10, 7)\n",
      "(11, 19)\n",
      "(12, 11)\n",
      "(13, 14)\n",
      "(14, 4)\n"
     ]
    }
   ],
   "source": [
    "zipped = zip(individuals[0], individuals[1])\n",
    "print(\"Fitness\", best_fit)\n",
    "for day_pages in list(zipped):\n",
    "    print(day_pages)"
   ]
  },
  {
   "cell_type": "markdown",
   "id": "39ba0c37",
   "metadata": {},
   "source": [
    "### Visualização do resultado com o nome dos capítulos por dia + número de páginas por dia"
   ]
  },
  {
   "cell_type": "code",
   "execution_count": 48,
   "id": "4e5f24d2",
   "metadata": {},
   "outputs": [
    {
     "name": "stdout",
     "output_type": "stream",
     "text": [
      "Prefácio | 4\n",
      "Um | 6\n",
      "Dois | 11\n",
      "Três | 6\n",
      "Quatro | 7\n",
      "Cinco | 12\n",
      "Seis | 5\n",
      "Sete | 6\n",
      "Oito | 7\n",
      "Nove | 24\n",
      "Dez | 7\n",
      "Onze | 19\n",
      "Doze | 11\n",
      "Treze | 14\n",
      "Quatorze | 4\n"
     ]
    }
   ],
   "source": [
    "zipped = zip(individuals[0], individuals[1])\n",
    "\n",
    "for day_pages in list(zipped):\n",
    "    if(day_pages[1] == NO_PAGE):\n",
    "        break\n",
    "        \n",
    "    if(not isinstance(day_pages[0], list)):\n",
    "        print(titles[day_pages[0]], \"|\", day_pages[1])\n",
    "    else:\n",
    "        for cap in day_pages[0]:\n",
    "            print(titles[cap], end=' | ')\n",
    "        print(day_pages[1])\n",
    "        print(\"\")"
   ]
  },
  {
   "cell_type": "markdown",
   "id": "b1cdc967",
   "metadata": {},
   "source": [
    "## 3. Geração do calendário"
   ]
  },
  {
   "cell_type": "markdown",
   "id": "84ac3e09",
   "metadata": {},
   "source": [
    "### 3.1 Lista gerada pelo Algoritmo Genético"
   ]
  },
  {
   "cell_type": "code",
   "execution_count": 49,
   "id": "7c3e6b3c",
   "metadata": {},
   "outputs": [],
   "source": [
    "import pprint"
   ]
  },
  {
   "cell_type": "code",
   "execution_count": 50,
   "id": "34f731e1",
   "metadata": {},
   "outputs": [
    {
     "name": "stdout",
     "output_type": "stream",
     "text": [
      "1\n",
      "[[['Prefácio'], 4],\n",
      " [['Um'], 6],\n",
      " [['Dois'], 11],\n",
      " [['Três'], 6],\n",
      " [['Quatro'], 7],\n",
      " [['Cinco'], 12],\n",
      " [['Seis'], 5],\n",
      " [['Sete'], 6],\n",
      " [['Oito'], 7],\n",
      " [['Nove'], 24],\n",
      " [['Dez'], 7],\n",
      " [['Onze'], 19],\n",
      " [['Doze'], 11],\n",
      " [['Treze'], 14],\n",
      " [['Quatorze'], 4]]\n"
     ]
    }
   ],
   "source": [
    "CAP = 0\n",
    "PAGES = 1\n",
    "MAX_CAPS_DAY = 10\n",
    "\n",
    "zipped = zip(individuals[0], individuals[1])\n",
    "extra_days = number_of_days - (len(individuals[0]) - 1)\n",
    "print(extra_days)\n",
    "capitulos_divididos = []\n",
    "\n",
    "#Gera a lista com a divisão geraada pelo algoritmo genético\n",
    "for day_pages in list(zipped):\n",
    "    #Se não há capítulo no dia, então já adicionou todos\n",
    "    if(day_pages[1] == NO_PAGE):\n",
    "        break\n",
    "    \n",
    "    #Gera a string da meta do dia\n",
    "    if(not isinstance(day_pages[0], list)):\n",
    "        final_title = [titles[day_pages[CAP]]]\n",
    "    else:\n",
    "        final_title = []\n",
    "        for cap in day_pages[0]:\n",
    "            final_title += [ titles[cap]]\n",
    "    \n",
    "    #Adiciona a meta na listaa\n",
    "    capitulos_divididos.append([final_title, day_pages[PAGES]])\n",
    "    \n",
    "pprint.pprint(capitulos_divididos)"
   ]
  },
  {
   "cell_type": "markdown",
   "id": "24837d0e",
   "metadata": {},
   "source": [
    "### 3.2 Divide as metas no dias que sobraram"
   ]
  },
  {
   "cell_type": "code",
   "execution_count": 51,
   "id": "130af1d1",
   "metadata": {},
   "outputs": [],
   "source": [
    "TITULO = 0\n",
    "CAPITULOS = 1\n",
    "seta = \"↑\"\n",
    "\n",
    "#Dias sem capítulos\n",
    "extra_days = number_of_days - (len(capitulos_divididos))\n",
    "\n",
    "#Lista para calcular  quantidade de páginasa \n",
    "capitulos_calculo = copy.deepcopy(capitulos_divididos)\n",
    "\n",
    "while(extra_days > 0):\n",
    "    #Lista com o número de capítulos\n",
    "    caps = [cap[CAPITULOS] for cap in capitulos_calculo] \n",
    "    \n",
    "    #Maior quantidade de páginas e o idx do capítulo\n",
    "    max_cap = max(caps)\n",
    "    max_idx = caps.index(max(caps))\n",
    "\n",
    "    extra_days -=1\n",
    "    \n",
    "    #Informações do capítulo e divisão\n",
    "    titulo = capitulos_calculo[max_idx][TITULO]\n",
    "    capitulos_calculo[max_idx][CAPITULOS] = capitulos_calculo[max_idx][CAPITULOS]/2\n",
    "    \n",
    "    #Insere a divisão\n",
    "    capitulos_calculo.insert(max_idx+1, [titulo, capitulos_calculo[max_idx][CAPITULOS]])\n",
    "    capitulos_divididos.insert(max_idx+1, [titulo, seta])"
   ]
  },
  {
   "cell_type": "code",
   "execution_count": 52,
   "id": "6b5bc1cc",
   "metadata": {},
   "outputs": [
    {
     "name": "stdout",
     "output_type": "stream",
     "text": [
      "[[['Prefácio'], 4],\n",
      " [['Um'], 6],\n",
      " [['Dois'], 11],\n",
      " [['Três'], 6],\n",
      " [['Quatro'], 7],\n",
      " [['Cinco'], 12],\n",
      " [['Seis'], 5],\n",
      " [['Sete'], 6],\n",
      " [['Oito'], 7],\n",
      " [['Nove'], 24],\n",
      " [['Dez'], 7],\n",
      " [['Onze'], 19],\n",
      " [['Doze'], 11],\n",
      " [['Treze'], 14],\n",
      " [['Quatorze'], 4]]\n"
     ]
    }
   ],
   "source": [
    "#Divisão com número de páginas\n",
    "pprint.pprint(capitulos_calculo)"
   ]
  },
  {
   "cell_type": "code",
   "execution_count": 53,
   "id": "8c2b53cf",
   "metadata": {},
   "outputs": [
    {
     "name": "stdout",
     "output_type": "stream",
     "text": [
      "[[['Prefácio'], 4],\n",
      " [['Um'], 6],\n",
      " [['Dois'], 11],\n",
      " [['Três'], 6],\n",
      " [['Quatro'], 7],\n",
      " [['Cinco'], 12],\n",
      " [['Seis'], 5],\n",
      " [['Sete'], 6],\n",
      " [['Oito'], 7],\n",
      " [['Nove'], 24],\n",
      " [['Dez'], 7],\n",
      " [['Onze'], 19],\n",
      " [['Doze'], 11],\n",
      " [['Treze'], 14],\n",
      " [['Quatorze'], 4]]\n"
     ]
    }
   ],
   "source": [
    "#Divisão com seta nos dias extraas\n",
    "pprint.pprint(capitulos_divididos)"
   ]
  },
  {
   "cell_type": "markdown",
   "id": "78664dd8",
   "metadata": {},
   "source": [
    "### 3.3 Gera o arquivo do calendário"
   ]
  },
  {
   "cell_type": "markdown",
   "id": "9204850e",
   "metadata": {},
   "source": [
    "**Hiperparâmetros**"
   ]
  },
  {
   "cell_type": "code",
   "execution_count": 59,
   "id": "ecc0c413",
   "metadata": {},
   "outputs": [],
   "source": [
    "title = \"O grande divórcio\"\n",
    "file_name = f\"Planner - {title}\"\n",
    "author = \"C. S. Lewis\"\n",
    "weekendMessage = \"Respiro\"\n",
    "caps_file_name = \"readme.txt\"\n",
    "skipWeekend = True\n",
    "start_day = 3\n",
    "start_month = 4\n",
    "start_year = 2023\n",
    "showNumberPages = True"
   ]
  },
  {
   "cell_type": "markdown",
   "id": "e1fc69de",
   "metadata": {},
   "source": [
    "**Lista para o calendário**"
   ]
  },
  {
   "cell_type": "code",
   "execution_count": 60,
   "id": "02e8aa23",
   "metadata": {},
   "outputs": [],
   "source": [
    "if showNumberPages:\n",
    "    string_list_capitulos = [[\" | \".join(capitulo[TITULO]), str(capitulo[CAPITULOS])] for capitulo in capitulos_divididos]\n",
    "    capitulos_divididos_string = [\" | \".join(capitulo) + \"\\n\" for capitulo in string_list_capitulos]\n",
    "else:\n",
    "    capitulos_divididos_string = [\" | \".join(capitulo[TITULO]) + \"\\n\" for capitulo in capitulos_divididos]"
   ]
  },
  {
   "cell_type": "code",
   "execution_count": 61,
   "id": "273d96c5",
   "metadata": {
    "scrolled": true
   },
   "outputs": [
    {
     "data": {
      "text/plain": [
       "['Prefácio | 4\\n',\n",
       " 'Um | 6\\n',\n",
       " 'Dois | 11\\n',\n",
       " 'Três | 6\\n',\n",
       " 'Quatro | 7\\n',\n",
       " 'Cinco | 12\\n',\n",
       " 'Seis | 5\\n',\n",
       " 'Sete | 6\\n',\n",
       " 'Oito | 7\\n',\n",
       " 'Nove | 24\\n',\n",
       " 'Dez | 7\\n',\n",
       " 'Onze | 19\\n',\n",
       " 'Doze | 11\\n',\n",
       " 'Treze | 14\\n',\n",
       " 'Quatorze | 4\\n']"
      ]
     },
     "execution_count": 61,
     "metadata": {},
     "output_type": "execute_result"
    }
   ],
   "source": [
    "capitulos_divididos_string"
   ]
  },
  {
   "cell_type": "code",
   "execution_count": 62,
   "id": "4c70fa3b",
   "metadata": {},
   "outputs": [],
   "source": [
    "with open('readme.txt', 'w', encoding='utf-8') as f:\n",
    "    f.writelines(capitulos_divididos_string)\n",
    "f.close()"
   ]
  },
  {
   "cell_type": "markdown",
   "id": "da407c02",
   "metadata": {},
   "source": [
    "**Gera o calendário**"
   ]
  },
  {
   "cell_type": "code",
   "execution_count": 63,
   "id": "78beaf2b",
   "metadata": {
    "scrolled": true
   },
   "outputs": [],
   "source": [
    "geraDocx(file_name, title, author, weekendMessage, caps_file_name, skipWeekend, start_day, start_month, start_year)"
   ]
  },
  {
   "cell_type": "code",
   "execution_count": null,
   "id": "a4349bac",
   "metadata": {},
   "outputs": [],
   "source": []
  }
 ],
 "metadata": {
  "kernelspec": {
   "display_name": "Python 3 (ipykernel)",
   "language": "python",
   "name": "python3"
  },
  "language_info": {
   "codemirror_mode": {
    "name": "ipython",
    "version": 3
   },
   "file_extension": ".py",
   "mimetype": "text/x-python",
   "name": "python",
   "nbconvert_exporter": "python",
   "pygments_lexer": "ipython3",
   "version": "3.8.11"
  }
 },
 "nbformat": 4,
 "nbformat_minor": 5
}

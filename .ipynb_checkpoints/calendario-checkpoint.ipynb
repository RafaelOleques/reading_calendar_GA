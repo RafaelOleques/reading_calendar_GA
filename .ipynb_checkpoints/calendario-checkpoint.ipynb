{
 "cells": [
  {
   "cell_type": "code",
   "execution_count": 1,
   "id": "4856122d",
   "metadata": {},
   "outputs": [],
   "source": [
    "from bestDays import *\n",
    "from planner import geraDocx"
   ]
  },
  {
   "cell_type": "markdown",
   "id": "b5171221",
   "metadata": {},
   "source": [
    "## 1. Visualização dos capítulos e números de páginas"
   ]
  },
  {
   "cell_type": "code",
   "execution_count": 2,
   "id": "beae2a4e",
   "metadata": {},
   "outputs": [
    {
     "name": "stdout",
     "output_type": "stream",
     "text": [
      "(0, 12)\n",
      "(1, 7)\n",
      "(2, 6)\n",
      "(3, 6)\n",
      "(4, 8)\n",
      "(5, 3)\n",
      "(6, 5)\n",
      "(7, 11)\n",
      "(8, 1)\n",
      "(9, 7)\n",
      "(10, 4)\n",
      "(11, 4)\n",
      "(12, 6)\n",
      "(13, 3)\n",
      "(14, 7)\n",
      "(15, 3)\n",
      "(16, 5)\n",
      "(17, 9)\n",
      "(18, 5)\n",
      "(19, 6)\n",
      "(20, 11)\n",
      "(21, 6)\n",
      "(22, 7)\n",
      "(23, 11)\n",
      "(24, 5)\n",
      "(25, 3)\n",
      "(26, 5)\n",
      "(27, 11)\n",
      "(28, 7)\n",
      "(29, 4)\n"
     ]
    }
   ],
   "source": [
    "pages, titles = chaptersWithPages(\"cap.txt\")\n",
    "\n",
    "caps = [i for i in range(0,30)]\n",
    "\n",
    "zipped = zip(caps, pages)\n",
    "\n",
    "for day in list(zipped):\n",
    "    print(day)"
   ]
  },
  {
   "cell_type": "markdown",
   "id": "c3a284d4",
   "metadata": {},
   "source": [
    "## 2.1. Solução com escolha dinâmica dos parâmetros"
   ]
  },
  {
   "cell_type": "code",
   "execution_count": 3,
   "id": "b25e7ce2",
   "metadata": {},
   "outputs": [
    {
     "name": "stdout",
     "output_type": "stream",
     "text": [
      "Encontrei: 1 [59, 53, 5, 0.1679760609566574, True] 6.177514792899406\n",
      "Encontrei: 2 [85, 75, 3, 0.7438324717181692, True] 5.946745562130175\n",
      "Encontrei: 3 [62, 32, 4, 0.48026003180377064, True] 5.869822485207099\n",
      "Fui escolhido com  5.869822485207099 de fitness\n",
      "[62, 32, 4, 0.48026003180377064, True]\n"
     ]
    }
   ],
   "source": [
    "number_of_days = 26\n",
    "    \n",
    "parametros, best_fit = the_best(number_of_days)\n",
    "\n",
    "g, n, k, m, e = parametros\n",
    "\n",
    "print(\"Fui escolhido com \", str(best_fit)+\" de fitness\")\n",
    "print(parametros)\n",
    "\n",
    "individuals, inf_graph = run_ga(g, n, k, m, e, number_of_days, True)"
   ]
  },
  {
   "cell_type": "markdown",
   "id": "94b92911",
   "metadata": {},
   "source": [
    "## 2.2. Solução com os parêmetros definidos pelo usuário"
   ]
  },
  {
   "cell_type": "code",
   "execution_count": null,
   "id": "e21b222a",
   "metadata": {},
   "outputs": [],
   "source": [
    "number_of_days = 26\n",
    "\n",
    "individuals, inf_graph = run_ga(70, 92, 5, 0.8691350183172188, True, number_of_days, True)\n",
    "best_fit = evaluate(individuals)"
   ]
  },
  {
   "cell_type": "markdown",
   "id": "7ccacf7b",
   "metadata": {},
   "source": [
    "## 2.3. Visualização da solução utilizada"
   ]
  },
  {
   "cell_type": "markdown",
   "id": "bccc7ce7",
   "metadata": {},
   "source": [
    "### Gráfico do algoritmo genético"
   ]
  },
  {
   "cell_type": "code",
   "execution_count": 4,
   "id": "3aa71a91",
   "metadata": {},
   "outputs": [
    {
     "data": {
      "image/png": "[encoded data removed]",
      "text/plain": [
       "<Figure size 432x288 with 1 Axes>"
      ]
     },
     "metadata": {
      "needs_background": "light"
     },
     "output_type": "display_data"
    }
   ],
   "source": [
    "import numpy as np\n",
    "import matplotlib.pyplot as plt\n",
    "\n",
    "max_fit = inf_graph[0]\n",
    "min_fit = inf_graph[1]\n",
    "avarage_fit = inf_graph[2]\n",
    "n_range = inf_graph[3]\n",
    "x = np.arange(0, n_range)\n",
    "\n",
    "plt.figure(figsize=(6, 4))\n",
    "plt.plot(x, min_fit, color='green', label='Menor') \n",
    "plt.plot(x, max_fit, color='red', label='Maior')\n",
    "plt.plot(x, avarage_fit, color='blue', label='Media')\n",
    "\n",
    "plt.xlabel(\"Gerações\",fontsize=13)\n",
    "plt.ylabel(\"Fitness\",fontsize=13)\n",
    "\n",
    "plt.legend()\n",
    "plt.show()\n",
    "plt.close()"
   ]
  },
  {
   "cell_type": "markdown",
   "id": "93f18a21",
   "metadata": {},
   "source": [
    "### Visualização do resultado com o número do capítulo por dia + número de páginas por dia"
   ]
  },
  {
   "cell_type": "code",
   "execution_count": 5,
   "id": "b1e97271",
   "metadata": {},
   "outputs": [
    {
     "name": "stdout",
     "output_type": "stream",
     "text": [
      "Fitness 5.869822485207099\n",
      "(0, 12)\n",
      "(1, 7)\n",
      "(2, 6)\n",
      "(3, 6)\n",
      "(4, 8)\n",
      "(5, 3)\n",
      "(6, 5)\n",
      "(7, 11)\n",
      "([8, 9], 8)\n",
      "([10, 11], 8)\n",
      "(12, 6)\n",
      "(13, 3)\n",
      "(14, 7)\n",
      "([15, 16], 8)\n",
      "(17, 9)\n",
      "([18, 19], 11)\n",
      "(20, 11)\n",
      "(21, 6)\n",
      "(22, 7)\n",
      "(23, 11)\n",
      "(24, 5)\n",
      "(25, 3)\n",
      "(26, 5)\n",
      "(27, 11)\n",
      "(28, 7)\n",
      "(29, 4)\n"
     ]
    }
   ],
   "source": [
    "zipped = zip(individuals[0], individuals[1])\n",
    "print(\"Fitness\", best_fit)\n",
    "for day_pages in list(zipped):\n",
    "    print(day_pages)"
   ]
  },
  {
   "cell_type": "markdown",
   "id": "05374ccc",
   "metadata": {},
   "source": [
    "### Visualização do resultado com o nome dos capítulos por dia + número de páginas por dia"
   ]
  },
  {
   "cell_type": "code",
   "execution_count": 6,
   "id": "4e5f24d2",
   "metadata": {},
   "outputs": [
    {
     "name": "stdout",
     "output_type": "stream",
     "text": [
      "Apresentação | 12\n",
      "A chegada de um homem estranho | 7\n",
      "As primeiras impressões do sr. Teddy Henfrey | 6\n",
      "Os mil e um frascos | 6\n",
      "O sr. Cuss conversa com o desconhecido | 8\n",
      "A invasão do vicariato | 3\n",
      "A mobília que enlouqueceu | 5\n",
      "A revelação do forasteiro | 11\n",
      "Em trânsito | O sr. Thomas Marvel | 8\n",
      "A visita do sr. Marvel a Iping | Na Coach and Horses | 8\n",
      "O Homem Invisível perde a paciência | 6\n",
      "O sr. Marvel discute sua demissão | 3\n",
      "Em Port Stowe | 7\n",
      "O homem que ia correndo | No Jolly Cricketers | 8\n",
      "O visitante do dr. Kemp | 9\n",
      "O Homem Invisível dorme | Alguns princípios fundamentais | 11\n",
      "Na casa da Great Portland Street | 11\n",
      "Na Oxford Street | 6\n",
      "No empório | 7\n",
      "Na Drury Lane | 11\n",
      "O plano que fracassou | 5\n",
      "A caça ao Homem Invisível | 3\n",
      "O assassinado de Wicksteed | 5\n",
      "O cerco à casa de Kemp | 11\n",
      "O caçador caçado | 7\n",
      "Epílogo | 4\n"
     ]
    }
   ],
   "source": [
    "zipped = zip(individuals[0], individuals[1])\n",
    "\n",
    "\n",
    "for day_pages in list(zipped):\n",
    "    if(not isinstance(day_pages[0], list)):\n",
    "        print(titles[day_pages[0]], \"|\", day_pages[1])\n",
    "    else:\n",
    "        for cap in day_pages[0]:\n",
    "            print(titles[cap], end=' | ')\n",
    "        print(day_pages[1])"
   ]
  },
  {
   "cell_type": "markdown",
   "id": "7e893d67",
   "metadata": {},
   "source": [
    "## 3. Geração do calendário"
   ]
  },
  {
   "cell_type": "code",
   "execution_count": 7,
   "id": "34f731e1",
   "metadata": {},
   "outputs": [],
   "source": [
    "zipped = zip(individuals[0], individuals[1])\n",
    "\n",
    "capitulos_divididos = []\n",
    "\n",
    "for day_pages in list(zipped):\n",
    "    if(not isinstance(day_pages[0], list)):\n",
    "        capitulos_divididos.append(titles[day_pages[0]] + \" | \" + str(day_pages[1]) + \"\\n\")\n",
    "    else:\n",
    "        aux = \"\"\n",
    "        for cap in day_pages[0]:\n",
    "            aux += titles[cap] + ' | '\n",
    "        aux += str(day_pages[1]) + \"\\n\"\n",
    "        capitulos_divididos.append(aux)\n",
    "\n",
    "with open('readme.txt', 'w', encoding='utf-8') as f:\n",
    "    f.writelines(capitulos_divididos)\n",
    "f.close()"
   ]
  },
  {
   "cell_type": "code",
   "execution_count": 9,
   "id": "eb2c7c31",
   "metadata": {},
   "outputs": [],
   "source": [
    "file_name = \"Planner - Homem Invisível!\"\n",
    "geraDocx(file_name)"
   ]
  },
  {
   "cell_type": "code",
   "execution_count": null,
   "id": "ec90c59f",
   "metadata": {},
   "outputs": [],
   "source": []
  }
 ],
 "metadata": {
  "kernelspec": {
   "display_name": "Python 3 (ipykernel)",
   "language": "python",
   "name": "python3"
  },
  "language_info": {
   "codemirror_mode": {
    "name": "ipython",
    "version": 3
   },
   "file_extension": ".py",
   "mimetype": "text/x-python",
   "name": "python",
   "nbconvert_exporter": "python",
   "pygments_lexer": "ipython3",
   "version": "3.8.11"
  }
 },
 "nbformat": 4,
 "nbformat_minor": 5
}
